{
 "cells": [
  {
   "cell_type": "markdown",
   "metadata": {},
   "source": [
    "# TRABAJO FINAL"
   ]
  },
  {
   "cell_type": "code",
   "execution_count": 1,
   "metadata": {},
   "outputs": [],
   "source": [
    "# Importando librerías\n",
    "import pandas as pd\n",
    "import numpy as np\n",
    "import seaborn as sns"
   ]
  },
  {
   "cell_type": "code",
   "execution_count": 2,
   "metadata": {},
   "outputs": [],
   "source": [
    "# Importando data\n",
    "data = pd.read_csv('DataModelo.csv',sep=';')"
   ]
  },
  {
   "cell_type": "code",
   "execution_count": 3,
   "metadata": {},
   "outputs": [],
   "source": [
    "# Para eliminar los 'future warnings'\n",
    "import warnings\n",
    "warnings.filterwarnings('ignore')"
   ]
  },
  {
   "cell_type": "markdown",
   "metadata": {},
   "source": [
    "## 1 - Analizando la data"
   ]
  },
  {
   "cell_type": "code",
   "execution_count": 4,
   "metadata": {},
   "outputs": [
    {
     "data": {
      "text/plain": [
       "(431, 78)"
      ]
     },
     "execution_count": 4,
     "metadata": {},
     "output_type": "execute_result"
    }
   ],
   "source": [
    "data.shape"
   ]
  },
  {
   "cell_type": "code",
   "execution_count": 5,
   "metadata": {},
   "outputs": [
    {
     "data": {
      "text/html": [
       "<div>\n",
       "<style scoped>\n",
       "    .dataframe tbody tr th:only-of-type {\n",
       "        vertical-align: middle;\n",
       "    }\n",
       "\n",
       "    .dataframe tbody tr th {\n",
       "        vertical-align: top;\n",
       "    }\n",
       "\n",
       "    .dataframe thead th {\n",
       "        text-align: right;\n",
       "    }\n",
       "</style>\n",
       "<table border=\"1\" class=\"dataframe\">\n",
       "  <thead>\n",
       "    <tr style=\"text-align: right;\">\n",
       "      <th></th>\n",
       "      <th>NacioLima</th>\n",
       "      <th>RadicaLima</th>\n",
       "      <th>Edad</th>\n",
       "      <th>Sexo</th>\n",
       "      <th>Privada</th>\n",
       "      <th>Semestres</th>\n",
       "      <th>Cepre</th>\n",
       "      <th>Ordinario</th>\n",
       "      <th>Postulaciones</th>\n",
       "      <th>EligioCarrera</th>\n",
       "      <th>...</th>\n",
       "      <th>CambioRutina</th>\n",
       "      <th>Representacion</th>\n",
       "      <th>Deporte</th>\n",
       "      <th>Gimnasio</th>\n",
       "      <th>Videojuegos</th>\n",
       "      <th>Ingles</th>\n",
       "      <th>Otros</th>\n",
       "      <th>Estudios</th>\n",
       "      <th>Investigaciones</th>\n",
       "      <th>NumActividades</th>\n",
       "    </tr>\n",
       "  </thead>\n",
       "  <tbody>\n",
       "    <tr>\n",
       "      <th>count</th>\n",
       "      <td>431.000000</td>\n",
       "      <td>431.000000</td>\n",
       "      <td>431.000000</td>\n",
       "      <td>431.000000</td>\n",
       "      <td>431.000000</td>\n",
       "      <td>431.000000</td>\n",
       "      <td>431.000000</td>\n",
       "      <td>431.000000</td>\n",
       "      <td>431.000000</td>\n",
       "      <td>431.000000</td>\n",
       "      <td>...</td>\n",
       "      <td>431.000000</td>\n",
       "      <td>431.000000</td>\n",
       "      <td>431.000000</td>\n",
       "      <td>431.000000</td>\n",
       "      <td>431.000000</td>\n",
       "      <td>431.000000</td>\n",
       "      <td>431.000000</td>\n",
       "      <td>431.000000</td>\n",
       "      <td>431.000000</td>\n",
       "      <td>431.000000</td>\n",
       "    </tr>\n",
       "    <tr>\n",
       "      <th>mean</th>\n",
       "      <td>0.689095</td>\n",
       "      <td>0.816705</td>\n",
       "      <td>21.324826</td>\n",
       "      <td>0.788863</td>\n",
       "      <td>0.605568</td>\n",
       "      <td>3.187935</td>\n",
       "      <td>0.283063</td>\n",
       "      <td>0.612529</td>\n",
       "      <td>2.677494</td>\n",
       "      <td>0.812065</td>\n",
       "      <td>...</td>\n",
       "      <td>0.844548</td>\n",
       "      <td>0.139211</td>\n",
       "      <td>0.649652</td>\n",
       "      <td>0.164733</td>\n",
       "      <td>0.452436</td>\n",
       "      <td>0.491879</td>\n",
       "      <td>0.081206</td>\n",
       "      <td>0.127610</td>\n",
       "      <td>0.180974</td>\n",
       "      <td>2.287703</td>\n",
       "    </tr>\n",
       "    <tr>\n",
       "      <th>std</th>\n",
       "      <td>0.463402</td>\n",
       "      <td>0.387358</td>\n",
       "      <td>2.582825</td>\n",
       "      <td>0.408590</td>\n",
       "      <td>0.489296</td>\n",
       "      <td>1.538481</td>\n",
       "      <td>0.451010</td>\n",
       "      <td>0.487739</td>\n",
       "      <td>1.242813</td>\n",
       "      <td>0.391114</td>\n",
       "      <td>...</td>\n",
       "      <td>0.362757</td>\n",
       "      <td>0.346569</td>\n",
       "      <td>0.477633</td>\n",
       "      <td>0.371371</td>\n",
       "      <td>0.498311</td>\n",
       "      <td>0.500515</td>\n",
       "      <td>0.273469</td>\n",
       "      <td>0.334043</td>\n",
       "      <td>0.385444</td>\n",
       "      <td>1.224104</td>\n",
       "    </tr>\n",
       "    <tr>\n",
       "      <th>min</th>\n",
       "      <td>0.000000</td>\n",
       "      <td>0.000000</td>\n",
       "      <td>15.000000</td>\n",
       "      <td>0.000000</td>\n",
       "      <td>0.000000</td>\n",
       "      <td>0.000000</td>\n",
       "      <td>0.000000</td>\n",
       "      <td>0.000000</td>\n",
       "      <td>0.000000</td>\n",
       "      <td>0.000000</td>\n",
       "      <td>...</td>\n",
       "      <td>0.000000</td>\n",
       "      <td>0.000000</td>\n",
       "      <td>0.000000</td>\n",
       "      <td>0.000000</td>\n",
       "      <td>0.000000</td>\n",
       "      <td>0.000000</td>\n",
       "      <td>0.000000</td>\n",
       "      <td>0.000000</td>\n",
       "      <td>0.000000</td>\n",
       "      <td>0.000000</td>\n",
       "    </tr>\n",
       "    <tr>\n",
       "      <th>25%</th>\n",
       "      <td>0.000000</td>\n",
       "      <td>1.000000</td>\n",
       "      <td>20.000000</td>\n",
       "      <td>1.000000</td>\n",
       "      <td>0.000000</td>\n",
       "      <td>2.000000</td>\n",
       "      <td>0.000000</td>\n",
       "      <td>0.000000</td>\n",
       "      <td>2.000000</td>\n",
       "      <td>1.000000</td>\n",
       "      <td>...</td>\n",
       "      <td>1.000000</td>\n",
       "      <td>0.000000</td>\n",
       "      <td>0.000000</td>\n",
       "      <td>0.000000</td>\n",
       "      <td>0.000000</td>\n",
       "      <td>0.000000</td>\n",
       "      <td>0.000000</td>\n",
       "      <td>0.000000</td>\n",
       "      <td>0.000000</td>\n",
       "      <td>1.000000</td>\n",
       "    </tr>\n",
       "    <tr>\n",
       "      <th>50%</th>\n",
       "      <td>1.000000</td>\n",
       "      <td>1.000000</td>\n",
       "      <td>21.000000</td>\n",
       "      <td>1.000000</td>\n",
       "      <td>1.000000</td>\n",
       "      <td>3.000000</td>\n",
       "      <td>0.000000</td>\n",
       "      <td>1.000000</td>\n",
       "      <td>3.000000</td>\n",
       "      <td>1.000000</td>\n",
       "      <td>...</td>\n",
       "      <td>1.000000</td>\n",
       "      <td>0.000000</td>\n",
       "      <td>1.000000</td>\n",
       "      <td>0.000000</td>\n",
       "      <td>0.000000</td>\n",
       "      <td>0.000000</td>\n",
       "      <td>0.000000</td>\n",
       "      <td>0.000000</td>\n",
       "      <td>0.000000</td>\n",
       "      <td>2.000000</td>\n",
       "    </tr>\n",
       "    <tr>\n",
       "      <th>75%</th>\n",
       "      <td>1.000000</td>\n",
       "      <td>1.000000</td>\n",
       "      <td>23.000000</td>\n",
       "      <td>1.000000</td>\n",
       "      <td>1.000000</td>\n",
       "      <td>4.000000</td>\n",
       "      <td>1.000000</td>\n",
       "      <td>1.000000</td>\n",
       "      <td>3.000000</td>\n",
       "      <td>1.000000</td>\n",
       "      <td>...</td>\n",
       "      <td>1.000000</td>\n",
       "      <td>0.000000</td>\n",
       "      <td>1.000000</td>\n",
       "      <td>0.000000</td>\n",
       "      <td>1.000000</td>\n",
       "      <td>1.000000</td>\n",
       "      <td>0.000000</td>\n",
       "      <td>0.000000</td>\n",
       "      <td>0.000000</td>\n",
       "      <td>3.000000</td>\n",
       "    </tr>\n",
       "    <tr>\n",
       "      <th>max</th>\n",
       "      <td>1.000000</td>\n",
       "      <td>1.000000</td>\n",
       "      <td>34.000000</td>\n",
       "      <td>1.000000</td>\n",
       "      <td>1.000000</td>\n",
       "      <td>8.000000</td>\n",
       "      <td>1.000000</td>\n",
       "      <td>1.000000</td>\n",
       "      <td>7.000000</td>\n",
       "      <td>1.000000</td>\n",
       "      <td>...</td>\n",
       "      <td>1.000000</td>\n",
       "      <td>1.000000</td>\n",
       "      <td>1.000000</td>\n",
       "      <td>1.000000</td>\n",
       "      <td>1.000000</td>\n",
       "      <td>1.000000</td>\n",
       "      <td>1.000000</td>\n",
       "      <td>1.000000</td>\n",
       "      <td>1.000000</td>\n",
       "      <td>7.000000</td>\n",
       "    </tr>\n",
       "  </tbody>\n",
       "</table>\n",
       "<p>8 rows × 78 columns</p>\n",
       "</div>"
      ],
      "text/plain": [
       "        NacioLima  RadicaLima        Edad        Sexo     Privada   Semestres  \\\n",
       "count  431.000000  431.000000  431.000000  431.000000  431.000000  431.000000   \n",
       "mean     0.689095    0.816705   21.324826    0.788863    0.605568    3.187935   \n",
       "std      0.463402    0.387358    2.582825    0.408590    0.489296    1.538481   \n",
       "min      0.000000    0.000000   15.000000    0.000000    0.000000    0.000000   \n",
       "25%      0.000000    1.000000   20.000000    1.000000    0.000000    2.000000   \n",
       "50%      1.000000    1.000000   21.000000    1.000000    1.000000    3.000000   \n",
       "75%      1.000000    1.000000   23.000000    1.000000    1.000000    4.000000   \n",
       "max      1.000000    1.000000   34.000000    1.000000    1.000000    8.000000   \n",
       "\n",
       "            Cepre   Ordinario  Postulaciones  EligioCarrera       ...        \\\n",
       "count  431.000000  431.000000     431.000000     431.000000       ...         \n",
       "mean     0.283063    0.612529       2.677494       0.812065       ...         \n",
       "std      0.451010    0.487739       1.242813       0.391114       ...         \n",
       "min      0.000000    0.000000       0.000000       0.000000       ...         \n",
       "25%      0.000000    0.000000       2.000000       1.000000       ...         \n",
       "50%      0.000000    1.000000       3.000000       1.000000       ...         \n",
       "75%      1.000000    1.000000       3.000000       1.000000       ...         \n",
       "max      1.000000    1.000000       7.000000       1.000000       ...         \n",
       "\n",
       "       CambioRutina  Representacion     Deporte    Gimnasio  Videojuegos  \\\n",
       "count    431.000000      431.000000  431.000000  431.000000   431.000000   \n",
       "mean       0.844548        0.139211    0.649652    0.164733     0.452436   \n",
       "std        0.362757        0.346569    0.477633    0.371371     0.498311   \n",
       "min        0.000000        0.000000    0.000000    0.000000     0.000000   \n",
       "25%        1.000000        0.000000    0.000000    0.000000     0.000000   \n",
       "50%        1.000000        0.000000    1.000000    0.000000     0.000000   \n",
       "75%        1.000000        0.000000    1.000000    0.000000     1.000000   \n",
       "max        1.000000        1.000000    1.000000    1.000000     1.000000   \n",
       "\n",
       "           Ingles       Otros    Estudios  Investigaciones  NumActividades  \n",
       "count  431.000000  431.000000  431.000000       431.000000      431.000000  \n",
       "mean     0.491879    0.081206    0.127610         0.180974        2.287703  \n",
       "std      0.500515    0.273469    0.334043         0.385444        1.224104  \n",
       "min      0.000000    0.000000    0.000000         0.000000        0.000000  \n",
       "25%      0.000000    0.000000    0.000000         0.000000        1.000000  \n",
       "50%      0.000000    0.000000    0.000000         0.000000        2.000000  \n",
       "75%      1.000000    0.000000    0.000000         0.000000        3.000000  \n",
       "max      1.000000    1.000000    1.000000         1.000000        7.000000  \n",
       "\n",
       "[8 rows x 78 columns]"
      ]
     },
     "execution_count": 5,
     "metadata": {},
     "output_type": "execute_result"
    }
   ],
   "source": [
    "data.describe()"
   ]
  },
  {
   "cell_type": "code",
   "execution_count": 6,
   "metadata": {},
   "outputs": [
    {
     "data": {
      "text/html": [
       "<div>\n",
       "<style scoped>\n",
       "    .dataframe tbody tr th:only-of-type {\n",
       "        vertical-align: middle;\n",
       "    }\n",
       "\n",
       "    .dataframe tbody tr th {\n",
       "        vertical-align: top;\n",
       "    }\n",
       "\n",
       "    .dataframe thead th {\n",
       "        text-align: right;\n",
       "    }\n",
       "</style>\n",
       "<table border=\"1\" class=\"dataframe\">\n",
       "  <thead>\n",
       "    <tr style=\"text-align: right;\">\n",
       "      <th></th>\n",
       "      <th>NacioLima</th>\n",
       "      <th>RadicaLima</th>\n",
       "      <th>Edad</th>\n",
       "      <th>Sexo</th>\n",
       "      <th>Privada</th>\n",
       "      <th>Semestres</th>\n",
       "      <th>Cepre</th>\n",
       "      <th>Ordinario</th>\n",
       "      <th>Postulaciones</th>\n",
       "      <th>EligioCarrera</th>\n",
       "      <th>...</th>\n",
       "      <th>CambioRutina</th>\n",
       "      <th>Representacion</th>\n",
       "      <th>Deporte</th>\n",
       "      <th>Gimnasio</th>\n",
       "      <th>Videojuegos</th>\n",
       "      <th>Ingles</th>\n",
       "      <th>Otros</th>\n",
       "      <th>Estudios</th>\n",
       "      <th>Investigaciones</th>\n",
       "      <th>NumActividades</th>\n",
       "    </tr>\n",
       "  </thead>\n",
       "  <tbody>\n",
       "    <tr>\n",
       "      <th>0</th>\n",
       "      <td>1</td>\n",
       "      <td>1</td>\n",
       "      <td>22</td>\n",
       "      <td>0</td>\n",
       "      <td>1</td>\n",
       "      <td>1</td>\n",
       "      <td>1</td>\n",
       "      <td>0</td>\n",
       "      <td>2</td>\n",
       "      <td>1</td>\n",
       "      <td>...</td>\n",
       "      <td>0</td>\n",
       "      <td>1</td>\n",
       "      <td>0</td>\n",
       "      <td>0</td>\n",
       "      <td>0</td>\n",
       "      <td>0</td>\n",
       "      <td>1</td>\n",
       "      <td>0</td>\n",
       "      <td>0</td>\n",
       "      <td>2</td>\n",
       "    </tr>\n",
       "    <tr>\n",
       "      <th>1</th>\n",
       "      <td>1</td>\n",
       "      <td>1</td>\n",
       "      <td>22</td>\n",
       "      <td>1</td>\n",
       "      <td>1</td>\n",
       "      <td>4</td>\n",
       "      <td>1</td>\n",
       "      <td>0</td>\n",
       "      <td>2</td>\n",
       "      <td>0</td>\n",
       "      <td>...</td>\n",
       "      <td>1</td>\n",
       "      <td>1</td>\n",
       "      <td>1</td>\n",
       "      <td>0</td>\n",
       "      <td>1</td>\n",
       "      <td>1</td>\n",
       "      <td>0</td>\n",
       "      <td>1</td>\n",
       "      <td>0</td>\n",
       "      <td>5</td>\n",
       "    </tr>\n",
       "    <tr>\n",
       "      <th>2</th>\n",
       "      <td>1</td>\n",
       "      <td>1</td>\n",
       "      <td>21</td>\n",
       "      <td>1</td>\n",
       "      <td>1</td>\n",
       "      <td>4</td>\n",
       "      <td>1</td>\n",
       "      <td>0</td>\n",
       "      <td>3</td>\n",
       "      <td>0</td>\n",
       "      <td>...</td>\n",
       "      <td>1</td>\n",
       "      <td>0</td>\n",
       "      <td>1</td>\n",
       "      <td>0</td>\n",
       "      <td>1</td>\n",
       "      <td>1</td>\n",
       "      <td>0</td>\n",
       "      <td>1</td>\n",
       "      <td>0</td>\n",
       "      <td>4</td>\n",
       "    </tr>\n",
       "    <tr>\n",
       "      <th>3</th>\n",
       "      <td>1</td>\n",
       "      <td>1</td>\n",
       "      <td>19</td>\n",
       "      <td>0</td>\n",
       "      <td>1</td>\n",
       "      <td>2</td>\n",
       "      <td>0</td>\n",
       "      <td>0</td>\n",
       "      <td>1</td>\n",
       "      <td>1</td>\n",
       "      <td>...</td>\n",
       "      <td>1</td>\n",
       "      <td>0</td>\n",
       "      <td>0</td>\n",
       "      <td>1</td>\n",
       "      <td>0</td>\n",
       "      <td>1</td>\n",
       "      <td>0</td>\n",
       "      <td>0</td>\n",
       "      <td>0</td>\n",
       "      <td>2</td>\n",
       "    </tr>\n",
       "    <tr>\n",
       "      <th>4</th>\n",
       "      <td>1</td>\n",
       "      <td>1</td>\n",
       "      <td>21</td>\n",
       "      <td>1</td>\n",
       "      <td>0</td>\n",
       "      <td>2</td>\n",
       "      <td>0</td>\n",
       "      <td>1</td>\n",
       "      <td>1</td>\n",
       "      <td>1</td>\n",
       "      <td>...</td>\n",
       "      <td>1</td>\n",
       "      <td>0</td>\n",
       "      <td>0</td>\n",
       "      <td>0</td>\n",
       "      <td>1</td>\n",
       "      <td>1</td>\n",
       "      <td>0</td>\n",
       "      <td>0</td>\n",
       "      <td>0</td>\n",
       "      <td>2</td>\n",
       "    </tr>\n",
       "  </tbody>\n",
       "</table>\n",
       "<p>5 rows × 78 columns</p>\n",
       "</div>"
      ],
      "text/plain": [
       "   NacioLima  RadicaLima  Edad  Sexo  Privada  Semestres  Cepre  Ordinario  \\\n",
       "0          1           1    22     0        1          1      1          0   \n",
       "1          1           1    22     1        1          4      1          0   \n",
       "2          1           1    21     1        1          4      1          0   \n",
       "3          1           1    19     0        1          2      0          0   \n",
       "4          1           1    21     1        0          2      0          1   \n",
       "\n",
       "   Postulaciones  EligioCarrera       ...        CambioRutina  Representacion  \\\n",
       "0              2              1       ...                   0               1   \n",
       "1              2              0       ...                   1               1   \n",
       "2              3              0       ...                   1               0   \n",
       "3              1              1       ...                   1               0   \n",
       "4              1              1       ...                   1               0   \n",
       "\n",
       "   Deporte  Gimnasio  Videojuegos  Ingles  Otros  Estudios  Investigaciones  \\\n",
       "0        0         0            0       0      1         0                0   \n",
       "1        1         0            1       1      0         1                0   \n",
       "2        1         0            1       1      0         1                0   \n",
       "3        0         1            0       1      0         0                0   \n",
       "4        0         0            1       1      0         0                0   \n",
       "\n",
       "   NumActividades  \n",
       "0               2  \n",
       "1               5  \n",
       "2               4  \n",
       "3               2  \n",
       "4               2  \n",
       "\n",
       "[5 rows x 78 columns]"
      ]
     },
     "execution_count": 6,
     "metadata": {},
     "output_type": "execute_result"
    }
   ],
   "source": [
    "data.head(5)"
   ]
  },
  {
   "cell_type": "markdown",
   "metadata": {},
   "source": [
    "Nos dimos cuenta que existe un dato inconsistente, porque todo estudiante de la UNI debe haber postulado como mínimo 1 vez"
   ]
  },
  {
   "cell_type": "code",
   "execution_count": 7,
   "metadata": {},
   "outputs": [
    {
     "data": {
      "text/plain": [
       "357    0\n",
       "Name: Postulaciones, dtype: int64"
      ]
     },
     "execution_count": 7,
     "metadata": {},
     "output_type": "execute_result"
    }
   ],
   "source": [
    "data[data.Postulaciones < 1]['Postulaciones']"
   ]
  },
  {
   "cell_type": "code",
   "execution_count": 8,
   "metadata": {},
   "outputs": [],
   "source": [
    "# Eliminamos el dato erroneo\n",
    "data.drop(357, inplace = True)"
   ]
  },
  {
   "cell_type": "markdown",
   "metadata": {},
   "source": [
    "### Analizando missings"
   ]
  },
  {
   "cell_type": "code",
   "execution_count": 9,
   "metadata": {},
   "outputs": [
    {
     "data": {
      "text/plain": [
       "0"
      ]
     },
     "execution_count": 9,
     "metadata": {},
     "output_type": "execute_result"
    }
   ],
   "source": [
    "sum(np.sum(data.isnull()))"
   ]
  },
  {
   "cell_type": "code",
   "execution_count": 10,
   "metadata": {},
   "outputs": [
    {
     "data": {
      "text/plain": [
       "0.0"
      ]
     },
     "execution_count": 10,
     "metadata": {},
     "output_type": "execute_result"
    }
   ],
   "source": [
    "sum(np.mean(data.isnull()))"
   ]
  },
  {
   "cell_type": "markdown",
   "metadata": {},
   "source": [
    "Conclusión: nos dimos cuenta de que no existen missings"
   ]
  },
  {
   "cell_type": "markdown",
   "metadata": {},
   "source": [
    "### Analizando Variables numéricas"
   ]
  },
  {
   "cell_type": "code",
   "execution_count": 11,
   "metadata": {},
   "outputs": [
    {
     "name": "stdout",
     "output_type": "stream",
     "text": [
      "15\n",
      "34\n"
     ]
    }
   ],
   "source": [
    "print(np.min(data.Edad))\n",
    "print(np.max(data.Edad))"
   ]
  },
  {
   "cell_type": "code",
   "execution_count": 12,
   "metadata": {},
   "outputs": [
    {
     "name": "stdout",
     "output_type": "stream",
     "text": [
      "0\n",
      "8\n"
     ]
    }
   ],
   "source": [
    "print(np.min(data.Semestres))\n",
    "print(np.max(data.Semestres))"
   ]
  },
  {
   "cell_type": "code",
   "execution_count": 13,
   "metadata": {},
   "outputs": [
    {
     "name": "stdout",
     "output_type": "stream",
     "text": [
      "1\n",
      "7\n"
     ]
    }
   ],
   "source": [
    "print(np.min(data.Postulaciones))\n",
    "print(np.max(data.Postulaciones))"
   ]
  },
  {
   "cell_type": "code",
   "execution_count": 14,
   "metadata": {},
   "outputs": [
    {
     "name": "stdout",
     "output_type": "stream",
     "text": [
      "0\n",
      "180\n"
     ]
    }
   ],
   "source": [
    "print(np.min(data.TiempoLlegada))\n",
    "print(np.max(data.TiempoLlegada))"
   ]
  },
  {
   "cell_type": "code",
   "execution_count": 15,
   "metadata": {},
   "outputs": [
    {
     "name": "stdout",
     "output_type": "stream",
     "text": [
      "0\n",
      "7\n"
     ]
    }
   ],
   "source": [
    "print(np.min(data.NumServicios))\n",
    "print(np.max(data.NumServicios))"
   ]
  },
  {
   "cell_type": "code",
   "execution_count": 16,
   "metadata": {},
   "outputs": [
    {
     "name": "stdout",
     "output_type": "stream",
     "text": [
      "0\n",
      "11\n"
     ]
    }
   ],
   "source": [
    "print(np.min(data.NumEquipos))\n",
    "print(np.max(data.NumEquipos))"
   ]
  },
  {
   "cell_type": "code",
   "execution_count": 17,
   "metadata": {},
   "outputs": [
    {
     "name": "stdout",
     "output_type": "stream",
     "text": [
      "1.0\n",
      "5.0\n"
     ]
    }
   ],
   "source": [
    "print(np.min(data.SatisProm))\n",
    "print(np.max(data.SatisProm))"
   ]
  },
  {
   "cell_type": "code",
   "execution_count": 18,
   "metadata": {},
   "outputs": [
    {
     "name": "stdout",
     "output_type": "stream",
     "text": [
      "0\n",
      "7\n"
     ]
    }
   ],
   "source": [
    "print(np.min(data.NumActividades))\n",
    "print(np.max(data.NumActividades))"
   ]
  },
  {
   "cell_type": "markdown",
   "metadata": {},
   "source": [
    "Conclusión: No se observa valores extraños"
   ]
  },
  {
   "cell_type": "markdown",
   "metadata": {},
   "source": [
    "### Analizando las correlaciones"
   ]
  },
  {
   "cell_type": "code",
   "execution_count": 19,
   "metadata": {},
   "outputs": [
    {
     "name": "stdout",
     "output_type": "stream",
     "text": [
      "                        NacioLima  RadicaLima      Edad      Sexo   Privada  \\\n",
      "NacioLima                1.000000    0.523582 -0.053996 -0.065866  0.102936   \n",
      "RadicaLima               0.523582    1.000000 -0.037031 -0.098778  0.107687   \n",
      "Edad                    -0.053996   -0.037031  1.000000  0.099403 -0.254123   \n",
      "Sexo                    -0.065866   -0.098778  0.099403  1.000000 -0.116178   \n",
      "Privada                  0.102936    0.107687 -0.254123 -0.116178  1.000000   \n",
      "Semestres                0.051901    0.032275  0.248730 -0.027580 -0.202012   \n",
      "Cepre                   -0.070268   -0.063698  0.062214 -0.042960  0.114631   \n",
      "Ordinario                0.085292    0.092543 -0.004038  0.115425 -0.113606   \n",
      "Postulaciones           -0.062482   -0.072808  0.292315 -0.003599 -0.141484   \n",
      "EligioCarrera           -0.015947    0.078614 -0.090472 -0.045749 -0.036777   \n",
      "Jalo                     0.058567    0.025399  0.356280  0.047115 -0.047983   \n",
      "Rendimiento             -0.038241   -0.013866 -0.207521 -0.027406  0.099421   \n",
      "EnfermaFrecuencia       -0.048004    0.012329  0.036178 -0.136954  0.020697   \n",
      "Alimentacion             0.052962    0.048809 -0.092637  0.062523  0.018706   \n",
      "ConsumoTabaco           -0.007389   -0.041337 -0.034277  0.038385  0.100612   \n",
      "ConsumoAlcohol          -0.044564   -0.060876  0.138745  0.137145 -0.011550   \n",
      "Descanso                -0.039714   -0.067265 -0.024520  0.130253 -0.062397   \n",
      "Estres                  -0.018320    0.023565  0.084319  0.012935  0.029471   \n",
      "IndiceEstres             0.057829    0.163080  0.064498 -0.128094  0.022155   \n",
      "TiempoLlegada            0.272360    0.319676  0.042660  0.004409  0.019065   \n",
      "Alquilada               -0.369426   -0.458222  0.011487  0.040516 -0.052664   \n",
      "Familiar                 0.162829    0.167127 -0.084114  0.000619  0.092436   \n",
      "Propia                   0.200504    0.275558  0.080641 -0.047785 -0.036850   \n",
      "MaterialNoble           -0.026585   -0.035633  0.073963  0.014553  0.021276   \n",
      "Internet                 0.110465    0.082072 -0.002403 -0.020876  0.063420   \n",
      "Spotify                 -0.034656   -0.077406  0.022988 -0.028164  0.059843   \n",
      "Cable                    0.204809    0.274291 -0.076549  0.066618  0.139672   \n",
      "Netflix                 -0.020027    0.007542 -0.008080 -0.026164  0.089938   \n",
      "TelefoniaFija            0.153837    0.216164  0.004036 -0.047905  0.141021   \n",
      "EmpleadaDomestica        0.007670    0.003798  0.048036  0.017463  0.017598   \n",
      "...                           ...         ...       ...       ...       ...   \n",
      "AportaEco               -0.070231   -0.041403  0.326225  0.082634 -0.166472   \n",
      "IndiceApoyoFam          -0.022885    0.030262 -0.184280 -0.070782  0.140548   \n",
      "Sobrecarga              -0.012545    0.019555  0.051219 -0.093259  0.038054   \n",
      "CruceHorarios           -0.004851   -0.031636  0.341078  0.121376 -0.036856   \n",
      "SatisBiblioFacu          0.034332    0.048785 -0.123344  0.138634 -0.003364   \n",
      "SatisBiblioUNI           0.026022    0.048846 -0.165609  0.018127 -0.017465   \n",
      "SatisLaboratorios        0.107729    0.034787 -0.114513 -0.046934  0.024798   \n",
      "SatisMedico              0.112558    0.053664 -0.112251  0.023285  0.022779   \n",
      "SatisComedor             0.101526    0.030026 -0.085430  0.070725  0.029882   \n",
      "SatisVerdes              0.033759    0.028904 -0.143966  0.061794 -0.038985   \n",
      "SatisDeportivos          0.084249    0.032267 -0.147881  0.122176  0.023138   \n",
      "SatisProm                0.090469    0.050138 -0.162299  0.072040  0.007109   \n",
      "IndiceDocentes          -0.016365    0.011667 -0.115416 -0.021371 -0.067395   \n",
      "ImpactoOrientacionDoc   -0.033188   -0.064102 -0.047519  0.008867 -0.012287   \n",
      "OpinionFacilidadesFacu   0.068400    0.063201 -0.169056  0.051887  0.064161   \n",
      "OpinionFacilidadesUni    0.065596    0.090711 -0.232167 -0.004649  0.038837   \n",
      "IndiceAutodidacta       -0.057615   -0.097349  0.111502  0.075570 -0.013973   \n",
      "RepasaSesiones           0.069911    0.106804  0.020314 -0.094379 -0.026491   \n",
      "Grupal                  -0.016170   -0.049498  0.048077  0.084447 -0.099087   \n",
      "TecnicaEstudio           0.059605    0.120732  0.012636 -0.032628 -0.007744   \n",
      "CambioRutina            -0.039859   -0.054796  0.042557  0.012887 -0.137554   \n",
      "Representacion          -0.018872    0.017734  0.018691 -0.004968 -0.003831   \n",
      "Deporte                 -0.071052   -0.044833  0.097452  0.230030 -0.102818   \n",
      "Gimnasio                -0.133538   -0.063982  0.074165  0.046396 -0.024728   \n",
      "Videojuegos              0.055052    0.031883 -0.137767  0.378215  0.102256   \n",
      "Ingles                  -0.022564   -0.038859  0.036635 -0.026724 -0.034076   \n",
      "Otros                   -0.038434   -0.056437  0.054192 -0.095634  0.049353   \n",
      "Estudios                -0.027970   -0.016099 -0.008535  0.027949  0.010598   \n",
      "Investigaciones         -0.074181   -0.041606  0.105813  0.125691 -0.113101   \n",
      "NumActividades          -0.099921   -0.064853  0.067778  0.270910 -0.042655   \n",
      "\n",
      "                        Semestres     Cepre  Ordinario  Postulaciones  \\\n",
      "NacioLima                0.051901 -0.070268   0.085292      -0.062482   \n",
      "RadicaLima               0.032275 -0.063698   0.092543      -0.072808   \n",
      "Edad                     0.248730  0.062214  -0.004038       0.292315   \n",
      "Sexo                    -0.027580 -0.042960   0.115425      -0.003599   \n",
      "Privada                 -0.202012  0.114631  -0.113606      -0.141484   \n",
      "Semestres                1.000000  0.177383   0.015692       0.690437   \n",
      "Cepre                    0.177383  1.000000  -0.789153       0.214509   \n",
      "Ordinario                0.015692 -0.789153   1.000000      -0.032858   \n",
      "Postulaciones            0.690437  0.214509  -0.032858       1.000000   \n",
      "EligioCarrera           -0.047916 -0.002738  -0.003296      -0.137705   \n",
      "Jalo                     0.171836  0.074316   0.028110       0.198197   \n",
      "Rendimiento             -0.196427  0.021042  -0.061909      -0.191496   \n",
      "EnfermaFrecuencia        0.030040  0.066717  -0.101292       0.082903   \n",
      "Alimentacion            -0.004996 -0.065658   0.052217       0.005104   \n",
      "ConsumoTabaco            0.021985  0.017086   0.035754       0.027259   \n",
      "ConsumoAlcohol           0.084935  0.047057  -0.017195       0.109595   \n",
      "Descanso                -0.034678 -0.099428   0.080476      -0.043070   \n",
      "Estres                   0.095808 -0.028660   0.067579       0.090083   \n",
      "IndiceEstres            -0.000244  0.066829  -0.041218       0.005748   \n",
      "TiempoLlegada            0.045564 -0.150874   0.190520      -0.018707   \n",
      "Alquilada               -0.077792  0.017501  -0.054032       0.006885   \n",
      "Familiar                 0.011568 -0.032529   0.008315      -0.056361   \n",
      "Propia                   0.078366  0.027329   0.036323       0.051016   \n",
      "MaterialNoble           -0.025035 -0.051931   0.007849       0.025934   \n",
      "Internet                -0.114649  0.001724  -0.057323      -0.010034   \n",
      "Spotify                 -0.083242  0.102669  -0.025198       0.054909   \n",
      "Cable                    0.091604  0.022157   0.029682      -0.002828   \n",
      "Netflix                 -0.059216  0.057577  -0.022738       0.033787   \n",
      "TelefoniaFija           -0.043590  0.045999   0.008355      -0.015242   \n",
      "EmpleadaDomestica       -0.056617  0.005740   0.013796      -0.006018   \n",
      "...                           ...       ...        ...            ...   \n",
      "AportaEco               -0.052833  0.061412  -0.061311       0.040534   \n",
      "IndiceApoyoFam          -0.062149  0.028751  -0.007495      -0.026857   \n",
      "Sobrecarga               0.052232  0.018655  -0.026618       0.073360   \n",
      "CruceHorarios           -0.004353 -0.039994   0.037783       0.093357   \n",
      "SatisBiblioFacu          0.014874  0.028932   0.007474       0.010727   \n",
      "SatisBiblioUNI          -0.000739  0.060454  -0.038299      -0.002142   \n",
      "SatisLaboratorios        0.024440  0.020970  -0.003086       0.061199   \n",
      "SatisMedico              0.015949 -0.006415   0.022396       0.023867   \n",
      "SatisComedor            -0.038049 -0.004176   0.027060      -0.004167   \n",
      "SatisVerdes             -0.014052  0.043767  -0.007851       0.028070   \n",
      "SatisDeportivos         -0.022054 -0.005296   0.029560      -0.012804   \n",
      "SatisProm               -0.004004  0.025288   0.006942       0.019028   \n",
      "IndiceDocentes           0.067968 -0.006005   0.031906       0.049823   \n",
      "ImpactoOrientacionDoc   -0.016404  0.061883  -0.068228      -0.050600   \n",
      "OpinionFacilidadesFacu  -0.014199  0.002909   0.001412      -0.077643   \n",
      "OpinionFacilidadesUni   -0.011753  0.004223  -0.023402      -0.051462   \n",
      "IndiceAutodidacta       -0.127688 -0.016556   0.023168      -0.047102   \n",
      "RepasaSesiones           0.010946  0.015896  -0.004267       0.006920   \n",
      "Grupal                   0.047000 -0.026412   0.063870       0.000460   \n",
      "TecnicaEstudio           0.027036 -0.024249   0.039730       0.108941   \n",
      "CambioRutina             0.083273 -0.059127   0.041290       0.050887   \n",
      "Representacion          -0.142471  0.001735  -0.011542      -0.087002   \n",
      "Deporte                  0.006210 -0.008580  -0.009090       0.057469   \n",
      "Gimnasio                 0.025691  0.014221   0.005266       0.047916   \n",
      "Videojuegos             -0.117067  0.014647   0.008573      -0.130979   \n",
      "Ingles                  -0.056762 -0.014218  -0.033866      -0.061214   \n",
      "Otros                   -0.037435  0.002859  -0.026001       0.021122   \n",
      "Estudios                -0.034553  0.023587  -0.053884      -0.082272   \n",
      "Investigaciones         -0.027744  0.014107  -0.011013       0.022800   \n",
      "NumActividades          -0.127420  0.013127  -0.039534      -0.076518   \n",
      "\n",
      "                        EligioCarrera       ...        CambioRutina  \\\n",
      "NacioLima                   -0.015947       ...           -0.039859   \n",
      "RadicaLima                   0.078614       ...           -0.054796   \n",
      "Edad                        -0.090472       ...            0.042557   \n",
      "Sexo                        -0.045749       ...            0.012887   \n",
      "Privada                     -0.036777       ...           -0.137554   \n",
      "Semestres                   -0.047916       ...            0.083273   \n",
      "Cepre                       -0.002738       ...           -0.059127   \n",
      "Ordinario                   -0.003296       ...            0.041290   \n",
      "Postulaciones               -0.137705       ...            0.050887   \n",
      "EligioCarrera                1.000000       ...            0.055414   \n",
      "Jalo                        -0.049218       ...           -0.013308   \n",
      "Rendimiento                  0.057203       ...           -0.037253   \n",
      "EnfermaFrecuencia            0.049026       ...            0.045389   \n",
      "Alimentacion                 0.066214       ...            0.006013   \n",
      "ConsumoTabaco               -0.000295       ...            0.024541   \n",
      "ConsumoAlcohol              -0.014188       ...            0.017494   \n",
      "Descanso                     0.090054       ...           -0.025358   \n",
      "Estres                       0.021701       ...           -0.011698   \n",
      "IndiceEstres                 0.064600       ...            0.040513   \n",
      "TiempoLlegada                0.000265       ...           -0.051836   \n",
      "Alquilada                   -0.034348       ...            0.079429   \n",
      "Familiar                     0.047410       ...           -0.120998   \n",
      "Propia                      -0.011235       ...            0.035725   \n",
      "MaterialNoble               -0.038549       ...           -0.042145   \n",
      "Internet                    -0.001983       ...           -0.036336   \n",
      "Spotify                     -0.094634       ...           -0.105720   \n",
      "Cable                       -0.031145       ...            0.027151   \n",
      "Netflix                     -0.114614       ...           -0.032241   \n",
      "TelefoniaFija                0.032838       ...            0.012109   \n",
      "EmpleadaDomestica           -0.024347       ...           -0.011555   \n",
      "...                               ...       ...                 ...   \n",
      "AportaEco                   -0.035627       ...           -0.010685   \n",
      "IndiceApoyoFam               0.029999       ...           -0.011496   \n",
      "Sobrecarga                   0.068704       ...            0.069391   \n",
      "CruceHorarios               -0.116500       ...            0.045459   \n",
      "SatisBiblioFacu              0.096378       ...            0.001237   \n",
      "SatisBiblioUNI               0.088046       ...           -0.025035   \n",
      "SatisLaboratorios            0.009143       ...           -0.032572   \n",
      "SatisMedico                 -0.016976       ...           -0.037064   \n",
      "SatisComedor                 0.039855       ...           -0.021484   \n",
      "SatisVerdes                  0.044622       ...           -0.007870   \n",
      "SatisDeportivos              0.005298       ...           -0.013573   \n",
      "SatisProm                    0.049262       ...           -0.024321   \n",
      "IndiceDocentes               0.188441       ...            0.001437   \n",
      "ImpactoOrientacionDoc        0.049027       ...            0.062600   \n",
      "OpinionFacilidadesFacu       0.065260       ...            0.010820   \n",
      "OpinionFacilidadesUni        0.043706       ...           -0.010471   \n",
      "IndiceAutodidacta           -0.039079       ...            0.029331   \n",
      "RepasaSesiones              -0.008906       ...            0.073613   \n",
      "Grupal                      -0.042006       ...            0.048286   \n",
      "TecnicaEstudio              -0.034915       ...            0.076537   \n",
      "CambioRutina                 0.055414       ...            1.000000   \n",
      "Representacion               0.073848       ...            0.024961   \n",
      "Deporte                     -0.040630       ...            0.021902   \n",
      "Gimnasio                    -0.026040       ...            0.018355   \n",
      "Videojuegos                 -0.029353       ...            0.002937   \n",
      "Ingles                      -0.038708       ...            0.036899   \n",
      "Otros                       -0.008852       ...           -0.059716   \n",
      "Estudios                    -0.082621       ...            0.010939   \n",
      "Investigaciones             -0.051042       ...            0.019194   \n",
      "NumActividades              -0.071146       ...            0.033113   \n",
      "\n",
      "                        Representacion       Deporte  Gimnasio  Videojuegos  \\\n",
      "NacioLima                    -0.018872 -7.105180e-02 -0.133538     0.055052   \n",
      "RadicaLima                    0.017734 -4.483319e-02 -0.063982     0.031883   \n",
      "Edad                          0.018691  9.745230e-02  0.074165    -0.137767   \n",
      "Sexo                         -0.004968  2.300304e-01  0.046396     0.378215   \n",
      "Privada                      -0.003831 -1.028177e-01 -0.024728     0.102256   \n",
      "Semestres                    -0.142471  6.210409e-03  0.025691    -0.117067   \n",
      "Cepre                         0.001735 -8.579902e-03  0.014221     0.014647   \n",
      "Ordinario                    -0.011542 -9.090420e-03  0.005266     0.008573   \n",
      "Postulaciones                -0.087002  5.746950e-02  0.047916    -0.130979   \n",
      "EligioCarrera                 0.073848 -4.063013e-02 -0.026040    -0.029353   \n",
      "Jalo                         -0.029621  3.179017e-02 -0.028467    -0.011786   \n",
      "Rendimiento                   0.057176 -1.113048e-02 -0.000175    -0.055566   \n",
      "EnfermaFrecuencia            -0.043600 -4.934174e-02  0.010172    -0.108838   \n",
      "Alimentacion                  0.006091  1.899317e-01  0.037961    -0.014657   \n",
      "ConsumoTabaco                 0.032762 -7.594329e-03  0.176226     0.058124   \n",
      "ConsumoAlcohol                0.170648  1.194194e-01  0.129464     0.045484   \n",
      "Descanso                     -0.089656  1.528741e-01 -0.007555     0.022816   \n",
      "Estres                        0.055445 -6.466434e-02  0.014877    -0.013513   \n",
      "IndiceEstres                  0.104263 -1.867761e-01 -0.038693    -0.054434   \n",
      "TiempoLlegada                -0.031794 -1.439619e-02 -0.074703     0.026185   \n",
      "Alquilada                     0.035934 -1.623311e-02  0.018917    -0.007191   \n",
      "Familiar                      0.002655  3.667571e-02 -0.019265     0.078852   \n",
      "Propia                       -0.027924 -2.450190e-02  0.009735    -0.061910   \n",
      "MaterialNoble                 0.083937  1.024501e-02  0.023443     0.028158   \n",
      "Internet                      0.044744  1.444622e-17  0.002088     0.099702   \n",
      "Spotify                       0.127170  1.346160e-01  0.045859     0.059885   \n",
      "Cable                         0.069953  9.535908e-03  0.017420     0.210535   \n",
      "Netflix                       0.087760  7.734482e-02  0.136611     0.060846   \n",
      "TelefoniaFija                 0.034185 -1.641286e-03  0.046381     0.093062   \n",
      "EmpleadaDomestica            -0.047258  4.833414e-02  0.070491     0.007920   \n",
      "...                                ...           ...       ...          ...   \n",
      "AportaEco                     0.050305  8.402811e-02  0.049159     0.025708   \n",
      "IndiceApoyoFam                0.064335  6.398299e-03  0.005084    -0.006593   \n",
      "Sobrecarga                    0.071594 -8.595245e-02 -0.020484    -0.164123   \n",
      "CruceHorarios                 0.066187  1.119531e-01 -0.027639    -0.030287   \n",
      "SatisBiblioFacu               0.055529  9.245668e-02 -0.073572     0.123013   \n",
      "SatisBiblioUNI                0.038681  3.696744e-02 -0.052839     0.119471   \n",
      "SatisLaboratorios            -0.004785 -5.326930e-03 -0.100894     0.066535   \n",
      "SatisMedico                  -0.010124  5.105798e-02 -0.093407     0.099909   \n",
      "SatisComedor                  0.037527  6.541668e-02 -0.110800     0.148556   \n",
      "SatisVerdes                   0.086811  7.509109e-02 -0.014505     0.144840   \n",
      "SatisDeportivos               0.043530  6.069435e-02 -0.062203     0.179545   \n",
      "SatisProm                     0.046107  6.917631e-02 -0.092142     0.161169   \n",
      "IndiceDocentes               -0.090853  5.329070e-03 -0.064338    -0.007602   \n",
      "ImpactoOrientacionDoc        -0.015807  3.670066e-02  0.029266     0.050419   \n",
      "OpinionFacilidadesFacu       -0.117724 -6.047048e-03  0.073682     0.055512   \n",
      "OpinionFacilidadesUni        -0.150699  5.976143e-02  0.056256     0.053423   \n",
      "IndiceAutodidacta             0.074638  1.882410e-01  0.036274     0.021265   \n",
      "RepasaSesiones                0.015868  9.742149e-03  0.042289    -0.054021   \n",
      "Grupal                        0.130541  4.148953e-02  0.081186     0.009835   \n",
      "TecnicaEstudio                0.061503  7.853356e-02  0.050172    -0.096784   \n",
      "CambioRutina                  0.024961  2.190194e-02  0.018355     0.002937   \n",
      "Representacion                1.000000  4.126382e-02  0.001682    -0.081867   \n",
      "Deporte                       0.041264  1.000000e+00  0.075797    -0.032610   \n",
      "Gimnasio                      0.001682  7.579676e-02  1.000000    -0.038172   \n",
      "Videojuegos                  -0.081867 -3.261028e-02 -0.038172     1.000000   \n",
      "Ingles                       -0.005932  1.566250e-02  0.064657     0.091660   \n",
      "Otros                         0.027399 -6.764417e-02 -0.086565    -0.081880   \n",
      "Estudios                      0.107019 -4.111154e-02  0.017228     0.072569   \n",
      "Investigaciones              -0.015392  2.797566e-02  0.083238     0.058328   \n",
      "NumActividades                0.294435  3.996637e-01  0.355777     0.416391   \n",
      "\n",
      "                          Ingles     Otros  Estudios  Investigaciones  \\\n",
      "NacioLima              -0.022564 -0.038434 -0.027970        -0.074181   \n",
      "RadicaLima             -0.038859 -0.056437 -0.016099        -0.041606   \n",
      "Edad                    0.036635  0.054192 -0.008535         0.105813   \n",
      "Sexo                   -0.026724 -0.095634  0.027949         0.125691   \n",
      "Privada                -0.034076  0.049353  0.010598        -0.113101   \n",
      "Semestres              -0.056762 -0.037435 -0.034553        -0.027744   \n",
      "Cepre                  -0.014218  0.002859  0.023587         0.014107   \n",
      "Ordinario              -0.033866 -0.026001 -0.053884        -0.011013   \n",
      "Postulaciones          -0.061214  0.021122 -0.082272         0.022800   \n",
      "EligioCarrera          -0.038708 -0.008852 -0.082621        -0.051042   \n",
      "Jalo                    0.036052 -0.031503 -0.004573         0.093540   \n",
      "Rendimiento            -0.019404 -0.030090  0.078768         0.007642   \n",
      "EnfermaFrecuencia       0.014682  0.042480  0.025817        -0.025520   \n",
      "Alimentacion           -0.032556 -0.023156 -0.062141        -0.066152   \n",
      "ConsumoTabaco           0.014053 -0.085738  0.025862         0.025446   \n",
      "ConsumoAlcohol          0.010211  0.021665  0.062496         0.090747   \n",
      "Descanso               -0.028859 -0.124850 -0.094856        -0.027492   \n",
      "Estres                  0.031865  0.040985  0.001198         0.064813   \n",
      "IndiceEstres            0.061809  0.031869  0.007610         0.053677   \n",
      "TiempoLlegada          -0.120805 -0.021342  0.028759         0.025059   \n",
      "Alquilada              -0.045679  0.082008  0.043253        -0.021395   \n",
      "Familiar               -0.006717  0.007991 -0.046828        -0.099556   \n",
      "Propia                  0.029032 -0.077481  0.012820         0.112559   \n",
      "MaterialNoble          -0.005096 -0.018633  0.022883        -0.060602   \n",
      "Internet                0.172123 -0.014175 -0.104447        -0.024140   \n",
      "Spotify                 0.027478 -0.012247  0.018823         0.016223   \n",
      "Cable                   0.112708 -0.091841  0.049023         0.019355   \n",
      "Netflix                 0.067765 -0.015401 -0.019815         0.095264   \n",
      "TelefoniaFija           0.096143 -0.068453  0.022919        -0.022388   \n",
      "EmpleadaDomestica      -0.032034 -0.016748  0.029501        -0.002593   \n",
      "...                          ...       ...       ...              ...   \n",
      "AportaEco               0.014610  0.023971  0.067934         0.172938   \n",
      "IndiceApoyoFam          0.047527 -0.075084  0.019442        -0.024532   \n",
      "Sobrecarga              0.077178  0.035812  0.061083         0.032697   \n",
      "CruceHorarios           0.103292  0.051992 -0.014890         0.066925   \n",
      "SatisBiblioFacu         0.015156 -0.070002 -0.080893         0.011513   \n",
      "SatisBiblioUNI         -0.026271 -0.011068 -0.069906        -0.068162   \n",
      "SatisLaboratorios      -0.048505  0.091521 -0.042352        -0.068036   \n",
      "SatisMedico            -0.018691 -0.014052  0.020841        -0.008728   \n",
      "SatisComedor            0.046057 -0.000551 -0.041339        -0.019439   \n",
      "SatisVerdes             0.039965 -0.029498 -0.006911         0.031688   \n",
      "SatisDeportivos         0.022722  0.001039 -0.066119        -0.011367   \n",
      "SatisProm               0.006674 -0.006408 -0.052770        -0.023257   \n",
      "IndiceDocentes          0.000749 -0.054020 -0.075646        -0.071149   \n",
      "ImpactoOrientacionDoc   0.001237 -0.037153  0.039940         0.082073   \n",
      "OpinionFacilidadesFacu -0.005366 -0.040538 -0.078659        -0.105455   \n",
      "OpinionFacilidadesUni   0.013294 -0.069442 -0.099494        -0.096088   \n",
      "IndiceAutodidacta       0.023733  0.045123  0.002922         0.158035   \n",
      "RepasaSesiones          0.088601 -0.050718 -0.004573         0.052636   \n",
      "Grupal                 -0.047491  0.018757  0.092324         0.094676   \n",
      "TecnicaEstudio          0.028174  0.055386  0.057330         0.102073   \n",
      "CambioRutina            0.036899 -0.059716  0.010939         0.019194   \n",
      "Representacion         -0.005932  0.027399  0.107019        -0.015392   \n",
      "Deporte                 0.015663 -0.067644 -0.041112         0.027976   \n",
      "Gimnasio                0.064657 -0.086565  0.017228         0.083238   \n",
      "Videojuegos             0.091660 -0.081880  0.072569         0.058328   \n",
      "Ingles                  1.000000 -0.105043  0.125520         0.105337   \n",
      "Otros                  -0.105043  1.000000 -0.012140        -0.051841   \n",
      "Estudios                0.125520 -0.012140  1.000000         0.163048   \n",
      "Investigaciones         0.105337 -0.051841  0.163048         1.000000   \n",
      "NumActividades          0.513658  0.082733  0.421757         0.446245   \n",
      "\n",
      "                        NumActividades  \n",
      "NacioLima                    -0.099921  \n",
      "RadicaLima                   -0.064853  \n",
      "Edad                          0.067778  \n",
      "Sexo                          0.270910  \n",
      "Privada                      -0.042655  \n",
      "Semestres                    -0.127420  \n",
      "Cepre                         0.013127  \n",
      "Ordinario                    -0.039534  \n",
      "Postulaciones                -0.076518  \n",
      "EligioCarrera                -0.071146  \n",
      "Jalo                          0.026453  \n",
      "Rendimiento                  -0.001539  \n",
      "EnfermaFrecuencia            -0.058219  \n",
      "Alimentacion                  0.024984  \n",
      "ConsumoTabaco                 0.085055  \n",
      "ConsumoAlcohol                0.207200  \n",
      "Descanso                     -0.033086  \n",
      "Estres                        0.032438  \n",
      "IndiceEstres                 -0.025738  \n",
      "TiempoLlegada                -0.064991  \n",
      "Alquilada                     0.011397  \n",
      "Familiar                     -0.003833  \n",
      "Propia                       -0.006179  \n",
      "MaterialNoble                 0.027230  \n",
      "Internet                      0.084864  \n",
      "Spotify                       0.145401  \n",
      "Cable                         0.159375  \n",
      "Netflix                       0.169954  \n",
      "TelefoniaFija                 0.084120  \n",
      "EmpleadaDomestica             0.020453  \n",
      "...                                ...  \n",
      "AportaEco                     0.156624  \n",
      "IndiceApoyoFam                0.019785  \n",
      "Sobrecarga                   -0.019654  \n",
      "CruceHorarios                 0.112439  \n",
      "SatisBiblioFacu               0.051516  \n",
      "SatisBiblioUNI                0.004150  \n",
      "SatisLaboratorios            -0.039324  \n",
      "SatisMedico                   0.021464  \n",
      "SatisComedor                  0.064167  \n",
      "SatisVerdes                   0.126119  \n",
      "SatisDeportivos               0.077971  \n",
      "SatisProm                     0.057132  \n",
      "IndiceDocentes               -0.101052  \n",
      "ImpactoOrientacionDoc         0.068131  \n",
      "OpinionFacilidadesFacu       -0.056672  \n",
      "OpinionFacilidadesUni        -0.048090  \n",
      "IndiceAutodidacta             0.184396  \n",
      "RepasaSesiones                0.039331  \n",
      "Grupal                        0.121525  \n",
      "TecnicaEstudio                0.095519  \n",
      "CambioRutina                  0.033113  \n",
      "Representacion                0.294435  \n",
      "Deporte                       0.399664  \n",
      "Gimnasio                      0.355777  \n",
      "Videojuegos                   0.416391  \n",
      "Ingles                        0.513658  \n",
      "Otros                         0.082733  \n",
      "Estudios                      0.421757  \n",
      "Investigaciones               0.446245  \n",
      "NumActividades                1.000000  \n",
      "\n",
      "[78 rows x 78 columns]\n"
     ]
    }
   ],
   "source": [
    "correlaciones = pd.DataFrame(np.corrcoef(data, rowvar = False))\n",
    "correlaciones.columns = data.columns\n",
    "correlaciones.index = data.columns\n",
    "print(correlaciones)"
   ]
  },
  {
   "cell_type": "markdown",
   "metadata": {},
   "source": [
    "## 2 - Depurando la data"
   ]
  },
  {
   "cell_type": "markdown",
   "metadata": {},
   "source": [
    "Eliminamos los valores con correlación mayor a 0.65"
   ]
  },
  {
   "cell_type": "code",
   "execution_count": 20,
   "metadata": {},
   "outputs": [],
   "source": [
    "columns_delete = ['ServiciosRecreo', 'ServiciosLujo', 'SatisBiblioFacu', 'SatisLaboratorios',\n",
    "                  'SatisBiblioUNI', 'SatisMedico', 'SatisComedor', 'SatisVerdes', 'SatisDeportivos',\n",
    "                  'Licuadora', 'Lavadora', 'Microondas', 'Ordinario']\n",
    "data = data.drop(columns_delete, axis = 1)"
   ]
  },
  {
   "cell_type": "code",
   "execution_count": 21,
   "metadata": {},
   "outputs": [
    {
     "data": {
      "text/plain": [
       "(430, 65)"
      ]
     },
     "execution_count": 21,
     "metadata": {},
     "output_type": "execute_result"
    }
   ],
   "source": [
    "data.shape"
   ]
  },
  {
   "cell_type": "markdown",
   "metadata": {},
   "source": [
    "## 3 - Visualizando información"
   ]
  },
  {
   "cell_type": "code",
   "execution_count": 22,
   "metadata": {},
   "outputs": [],
   "source": [
    "#1: Buen rendimiento // 0: Mal rendimiento\n",
    "#En base al anàlisis de correlaciòn, se analiza la var. Privada 1: Si // 0: No\n",
    "Cuadro1 = data.groupby(['Privada'])['Rendimiento'].sum()/data.Privada.value_counts()\n",
    "Cuadro1.index = (\"No privado\", \"Sí privado\")\n",
    "Cuadro1.name = (\"Buen rendimiento\")"
   ]
  },
  {
   "cell_type": "code",
   "execution_count": 23,
   "metadata": {
    "scrolled": true
   },
   "outputs": [
    {
     "data": {
      "text/plain": [
       "<seaborn.axisgrid.FacetGrid at 0x1a225939b0>"
      ]
     },
     "execution_count": 23,
     "metadata": {},
     "output_type": "execute_result"
    },
    {
     "data": {
      "image/png": "[encoded data removed]",
      "text/plain": [
       "<Figure size 432x432 with 1 Axes>"
      ]
     },
     "metadata": {},
     "output_type": "display_data"
    }
   ],
   "source": [
    "sns.set(style=\"whitegrid\")\n",
    "g1 = sns.catplot(x=\"Privada\", y=\"Rendimiento\",data=data,\n",
    "                height=6, kind=\"bar\", palette=\"muted\")\n",
    "g1.despine(left=True)\n",
    "g1.set_ylabels(\"% Buen rendimiento\")"
   ]
  },
  {
   "cell_type": "markdown",
   "metadata": {},
   "source": [
    "**Conclusión:**\n",
    "Se encontró, que de todas las variables, existe una mayor probabilidad de que los alumnos que estudiaron en un colegio Privado tengan un mejor rendimiento que los que no lo hicieron."
   ]
  },
  {
   "cell_type": "code",
   "execution_count": 24,
   "metadata": {},
   "outputs": [],
   "source": [
    "# Se analiza la 2da variable Indice de apoyo familiar 5: Mayor // 1: Menor\n",
    "Cuadro2 = data.groupby(['IndiceApoyoFam'])['Rendimiento'].sum()/data.IndiceApoyoFam.value_counts()\n",
    "Cuadro2.name = (\"% Buen rendimiento\")"
   ]
  },
  {
   "cell_type": "code",
   "execution_count": 25,
   "metadata": {},
   "outputs": [
    {
     "data": {
      "text/plain": [
       "<seaborn.axisgrid.FacetGrid at 0x1a2292cd68>"
      ]
     },
     "execution_count": 25,
     "metadata": {},
     "output_type": "execute_result"
    },
    {
     "data": {
      "image/png": "[encoded data removed]",
      "text/plain": [
       "<Figure size 432x432 with 1 Axes>"
      ]
     },
     "metadata": {},
     "output_type": "display_data"
    }
   ],
   "source": [
    "g2 = sns.catplot(x=\"IndiceApoyoFam\", y=\"Rendimiento\",data=data,\n",
    "                height=6, kind=\"bar\", palette=\"muted\")\n",
    "g2.despine(left=True)\n",
    "g2.set_ylabels(\"% Buen rendimiento\")"
   ]
  },
  {
   "cell_type": "markdown",
   "metadata": {},
   "source": [
    "**Conclusión:**\n",
    "Se encontró, que de todas las variables, a medida que los alumnos tienen mayor apoyo familiar, mejora su probabilidad de tener un mejor rendimiento."
   ]
  },
  {
   "cell_type": "markdown",
   "metadata": {},
   "source": [
    "## 4 - Entrenamiento"
   ]
  },
  {
   "cell_type": "code",
   "execution_count": 26,
   "metadata": {},
   "outputs": [],
   "source": [
    "# Separar variables de manera matricial\n",
    "X = data.drop(['Rendimiento'], axis = 1)\n",
    "y = data.loc[:, ['Rendimiento']]"
   ]
  },
  {
   "cell_type": "markdown",
   "metadata": {},
   "source": [
    "Importamos la función propia para obtener dataframe con resumen de indicadores de cada módelo"
   ]
  },
  {
   "cell_type": "code",
   "execution_count": 27,
   "metadata": {},
   "outputs": [
    {
     "data": {
      "text/html": [
       "<div>\n",
       "<style scoped>\n",
       "    .dataframe tbody tr th:only-of-type {\n",
       "        vertical-align: middle;\n",
       "    }\n",
       "\n",
       "    .dataframe tbody tr th {\n",
       "        vertical-align: top;\n",
       "    }\n",
       "\n",
       "    .dataframe thead th {\n",
       "        text-align: right;\n",
       "    }\n",
       "</style>\n",
       "<table border=\"1\" class=\"dataframe\">\n",
       "  <thead>\n",
       "    <tr style=\"text-align: right;\">\n",
       "      <th></th>\n",
       "      <th>logit</th>\n",
       "      <th>naive_bayes</th>\n",
       "      <th>svr</th>\n",
       "      <th>svc</th>\n",
       "      <th>tree_cl</th>\n",
       "      <th>tree_reg</th>\n",
       "      <th>rf_cl</th>\n",
       "      <th>rf_reg</th>\n",
       "      <th>xgb_cl</th>\n",
       "      <th>xgb_reg</th>\n",
       "    </tr>\n",
       "  </thead>\n",
       "  <tbody>\n",
       "    <tr>\n",
       "      <th>train_aciertos</th>\n",
       "      <td>0.770349</td>\n",
       "      <td>0.688953</td>\n",
       "      <td>0.799416</td>\n",
       "      <td>0.825581</td>\n",
       "      <td>0.936047</td>\n",
       "      <td>0.808792</td>\n",
       "      <td>0.953488</td>\n",
       "      <td>0.806314</td>\n",
       "      <td>0.956395</td>\n",
       "      <td>0.538886</td>\n",
       "    </tr>\n",
       "    <tr>\n",
       "      <th>train_gini</th>\n",
       "      <td>0.735119</td>\n",
       "      <td>0.52665</td>\n",
       "      <td>0.985457</td>\n",
       "      <td>0.651786</td>\n",
       "      <td>0.966349</td>\n",
       "      <td>0.966349</td>\n",
       "      <td>0.906115</td>\n",
       "      <td>0.998106</td>\n",
       "      <td>0.91342</td>\n",
       "      <td>0.977949</td>\n",
       "    </tr>\n",
       "    <tr>\n",
       "      <th>test_aciertos</th>\n",
       "      <td>0.534884</td>\n",
       "      <td>0.488372</td>\n",
       "      <td>-0.145609</td>\n",
       "      <td>0.534884</td>\n",
       "      <td>0.546512</td>\n",
       "      <td>-0.717815</td>\n",
       "      <td>0.627907</td>\n",
       "      <td>-0.0853227</td>\n",
       "      <td>0.651163</td>\n",
       "      <td>0.0888512</td>\n",
       "    </tr>\n",
       "    <tr>\n",
       "      <th>test_gini</th>\n",
       "      <td>0.133772</td>\n",
       "      <td>-0.0230263</td>\n",
       "      <td>0.114035</td>\n",
       "      <td>0.0570175</td>\n",
       "      <td>0.0745614</td>\n",
       "      <td>0.0964912</td>\n",
       "      <td>0.251096</td>\n",
       "      <td>0.158443</td>\n",
       "      <td>0.292763</td>\n",
       "      <td>0.350877</td>\n",
       "    </tr>\n",
       "  </tbody>\n",
       "</table>\n",
       "</div>"
      ],
      "text/plain": [
       "                   logit naive_bayes       svr        svc    tree_cl  \\\n",
       "train_aciertos  0.770349    0.688953  0.799416   0.825581   0.936047   \n",
       "train_gini      0.735119     0.52665  0.985457   0.651786   0.966349   \n",
       "test_aciertos   0.534884    0.488372 -0.145609   0.534884   0.546512   \n",
       "test_gini       0.133772  -0.0230263  0.114035  0.0570175  0.0745614   \n",
       "\n",
       "                 tree_reg     rf_cl     rf_reg    xgb_cl    xgb_reg  \n",
       "train_aciertos   0.808792  0.953488   0.806314  0.956395   0.538886  \n",
       "train_gini       0.966349  0.906115   0.998106   0.91342   0.977949  \n",
       "test_aciertos   -0.717815  0.627907 -0.0853227  0.651163  0.0888512  \n",
       "test_gini       0.0964912  0.251096   0.158443  0.292763   0.350877  "
      ]
     },
     "execution_count": 27,
     "metadata": {},
     "output_type": "execute_result"
    }
   ],
   "source": [
    "from modelos import resumen_table\n",
    "resumen = resumen_table(X, y)\n",
    "resumen"
   ]
  },
  {
   "cell_type": "markdown",
   "metadata": {},
   "source": [
    "**Conclusión:** Por ahora el módelo logit es el que presenta menos diferencia de los aciertos, y el xgb_cl es el que también tiene buenos indicadores."
   ]
  },
  {
   "cell_type": "markdown",
   "metadata": {},
   "source": [
    "## 5 - Entrenamiento con las variables más importantes"
   ]
  },
  {
   "cell_type": "code",
   "execution_count": 28,
   "metadata": {},
   "outputs": [],
   "source": [
    "# Separando en train y test\n",
    "from sklearn.model_selection import train_test_split\n",
    "X_train, X_test, y_train, y_test = train_test_split(X, y, test_size = 0.3, random_state = 4)"
   ]
  },
  {
   "cell_type": "markdown",
   "metadata": {},
   "source": [
    "### Calcular las variables más importantes con el Random Forest Classifier"
   ]
  },
  {
   "cell_type": "code",
   "execution_count": 29,
   "metadata": {},
   "outputs": [],
   "source": [
    "from sklearn.ensemble import RandomForestClassifier # libreria\n",
    "rf_cl = RandomForestClassifier(max_depth = 10, random_state = 0) # Objeto\n",
    "rf_cl.fit(X_train, y_train) # Entrenamiento\n",
    "# Importancia de las variables\n",
    "importancia = pd.DataFrame(rf_cl.feature_importances_)\n",
    "importancia.index = X_train.columns"
   ]
  },
  {
   "cell_type": "markdown",
   "metadata": {},
   "source": [
    "### Entrenamiento con 30, 15 y 10 variables"
   ]
  },
  {
   "cell_type": "code",
   "execution_count": 30,
   "metadata": {},
   "outputs": [
    {
     "data": {
      "text/html": [
       "<div>\n",
       "<style scoped>\n",
       "    .dataframe tbody tr th:only-of-type {\n",
       "        vertical-align: middle;\n",
       "    }\n",
       "\n",
       "    .dataframe tbody tr th {\n",
       "        vertical-align: top;\n",
       "    }\n",
       "\n",
       "    .dataframe thead th {\n",
       "        text-align: right;\n",
       "    }\n",
       "</style>\n",
       "<table border=\"1\" class=\"dataframe\">\n",
       "  <thead>\n",
       "    <tr style=\"text-align: right;\">\n",
       "      <th></th>\n",
       "      <th>logit</th>\n",
       "      <th>naive_bayes</th>\n",
       "      <th>svr</th>\n",
       "      <th>svc</th>\n",
       "      <th>tree_cl</th>\n",
       "      <th>tree_reg</th>\n",
       "      <th>rf_cl</th>\n",
       "      <th>rf_reg</th>\n",
       "      <th>xgb_cl</th>\n",
       "      <th>xgb_reg</th>\n",
       "    </tr>\n",
       "  </thead>\n",
       "  <tbody>\n",
       "    <tr>\n",
       "      <th>train_aciertos</th>\n",
       "      <td>0.729651</td>\n",
       "      <td>0.677326</td>\n",
       "      <td>0.873439</td>\n",
       "      <td>0.883721</td>\n",
       "      <td>0.973837</td>\n",
       "      <td>0.924489</td>\n",
       "      <td>0.968023</td>\n",
       "      <td>0.814805</td>\n",
       "      <td>0.938953</td>\n",
       "      <td>0.512873</td>\n",
       "    </tr>\n",
       "    <tr>\n",
       "      <th>train_gini</th>\n",
       "      <td>0.638596</td>\n",
       "      <td>0.454343</td>\n",
       "      <td>0.997159</td>\n",
       "      <td>0.767045</td>\n",
       "      <td>0.994927</td>\n",
       "      <td>0.994927</td>\n",
       "      <td>0.935335</td>\n",
       "      <td>0.998106</td>\n",
       "      <td>0.877706</td>\n",
       "      <td>0.965639</td>\n",
       "    </tr>\n",
       "    <tr>\n",
       "      <th>test_aciertos</th>\n",
       "      <td>0.651163</td>\n",
       "      <td>0.546512</td>\n",
       "      <td>-0.138874</td>\n",
       "      <td>0.476744</td>\n",
       "      <td>0.639535</td>\n",
       "      <td>-0.444668</td>\n",
       "      <td>0.639535</td>\n",
       "      <td>0.0538159</td>\n",
       "      <td>0.651163</td>\n",
       "      <td>0.109384</td>\n",
       "    </tr>\n",
       "    <tr>\n",
       "      <th>test_gini</th>\n",
       "      <td>0.300439</td>\n",
       "      <td>0.118421</td>\n",
       "      <td>0.0592105</td>\n",
       "      <td>-0.0635965</td>\n",
       "      <td>0.269737</td>\n",
       "      <td>0.258224</td>\n",
       "      <td>0.255482</td>\n",
       "      <td>0.316338</td>\n",
       "      <td>0.292763</td>\n",
       "      <td>0.395833</td>\n",
       "    </tr>\n",
       "  </tbody>\n",
       "</table>\n",
       "</div>"
      ],
      "text/plain": [
       "                   logit naive_bayes        svr        svc   tree_cl  \\\n",
       "train_aciertos  0.729651    0.677326   0.873439   0.883721  0.973837   \n",
       "train_gini      0.638596    0.454343   0.997159   0.767045  0.994927   \n",
       "test_aciertos   0.651163    0.546512  -0.138874   0.476744  0.639535   \n",
       "test_gini       0.300439    0.118421  0.0592105 -0.0635965  0.269737   \n",
       "\n",
       "                tree_reg     rf_cl     rf_reg    xgb_cl   xgb_reg  \n",
       "train_aciertos  0.924489  0.968023   0.814805  0.938953  0.512873  \n",
       "train_gini      0.994927  0.935335   0.998106  0.877706  0.965639  \n",
       "test_aciertos  -0.444668  0.639535  0.0538159  0.651163  0.109384  \n",
       "test_gini       0.258224  0.255482   0.316338  0.292763  0.395833  "
      ]
     },
     "execution_count": 30,
     "metadata": {},
     "output_type": "execute_result"
    }
   ],
   "source": [
    "# Entrenamiento con las principales 30 variables más importantes\n",
    "nombres_imp_30 = importancia.sort_values(by=[0], ascending = False)[:30].index\n",
    "X1 = data.loc[:, nombres_imp_30]\n",
    "resumen_imp30 = resumen_table(X1, y)\n",
    "resumen_imp30"
   ]
  },
  {
   "cell_type": "code",
   "execution_count": 31,
   "metadata": {},
   "outputs": [
    {
     "data": {
      "text/html": [
       "<div>\n",
       "<style scoped>\n",
       "    .dataframe tbody tr th:only-of-type {\n",
       "        vertical-align: middle;\n",
       "    }\n",
       "\n",
       "    .dataframe tbody tr th {\n",
       "        vertical-align: top;\n",
       "    }\n",
       "\n",
       "    .dataframe thead th {\n",
       "        text-align: right;\n",
       "    }\n",
       "</style>\n",
       "<table border=\"1\" class=\"dataframe\">\n",
       "  <thead>\n",
       "    <tr style=\"text-align: right;\">\n",
       "      <th></th>\n",
       "      <th>logit</th>\n",
       "      <th>naive_bayes</th>\n",
       "      <th>svr</th>\n",
       "      <th>svc</th>\n",
       "      <th>tree_cl</th>\n",
       "      <th>tree_reg</th>\n",
       "      <th>rf_cl</th>\n",
       "      <th>rf_reg</th>\n",
       "      <th>xgb_cl</th>\n",
       "      <th>xgb_reg</th>\n",
       "    </tr>\n",
       "  </thead>\n",
       "  <tbody>\n",
       "    <tr>\n",
       "      <th>train_aciertos</th>\n",
       "      <td>0.72093</td>\n",
       "      <td>0.65407</td>\n",
       "      <td>0.915815</td>\n",
       "      <td>0.947674</td>\n",
       "      <td>0.956395</td>\n",
       "      <td>0.896514</td>\n",
       "      <td>0.956395</td>\n",
       "      <td>0.816905</td>\n",
       "      <td>0.901163</td>\n",
       "      <td>0.478845</td>\n",
       "    </tr>\n",
       "    <tr>\n",
       "      <th>train_gini</th>\n",
       "      <td>0.582522</td>\n",
       "      <td>0.375473</td>\n",
       "      <td>0.998715</td>\n",
       "      <td>0.895563</td>\n",
       "      <td>0.991071</td>\n",
       "      <td>0.991071</td>\n",
       "      <td>0.911797</td>\n",
       "      <td>0.997599</td>\n",
       "      <td>0.801677</td>\n",
       "      <td>0.941626</td>\n",
       "    </tr>\n",
       "    <tr>\n",
       "      <th>test_aciertos</th>\n",
       "      <td>0.674419</td>\n",
       "      <td>0.604651</td>\n",
       "      <td>-0.172727</td>\n",
       "      <td>0.488372</td>\n",
       "      <td>0.639535</td>\n",
       "      <td>-0.449848</td>\n",
       "      <td>0.546512</td>\n",
       "      <td>0.0658798</td>\n",
       "      <td>0.72093</td>\n",
       "      <td>0.138256</td>\n",
       "    </tr>\n",
       "    <tr>\n",
       "      <th>test_gini</th>\n",
       "      <td>0.333333</td>\n",
       "      <td>0.223684</td>\n",
       "      <td>-0.0350877</td>\n",
       "      <td>-0.0372807</td>\n",
       "      <td>0.256579</td>\n",
       "      <td>0.244518</td>\n",
       "      <td>0.105263</td>\n",
       "      <td>0.355263</td>\n",
       "      <td>0.445175</td>\n",
       "      <td>0.445724</td>\n",
       "    </tr>\n",
       "  </tbody>\n",
       "</table>\n",
       "</div>"
      ],
      "text/plain": [
       "                   logit naive_bayes        svr        svc   tree_cl  \\\n",
       "train_aciertos   0.72093     0.65407   0.915815   0.947674  0.956395   \n",
       "train_gini      0.582522    0.375473   0.998715   0.895563  0.991071   \n",
       "test_aciertos   0.674419    0.604651  -0.172727   0.488372  0.639535   \n",
       "test_gini       0.333333    0.223684 -0.0350877 -0.0372807  0.256579   \n",
       "\n",
       "                tree_reg     rf_cl     rf_reg    xgb_cl   xgb_reg  \n",
       "train_aciertos  0.896514  0.956395   0.816905  0.901163  0.478845  \n",
       "train_gini      0.991071  0.911797   0.997599  0.801677  0.941626  \n",
       "test_aciertos  -0.449848  0.546512  0.0658798   0.72093  0.138256  \n",
       "test_gini       0.244518  0.105263   0.355263  0.445175  0.445724  "
      ]
     },
     "execution_count": 31,
     "metadata": {},
     "output_type": "execute_result"
    }
   ],
   "source": [
    "# Entrenamiento con las principales 15 variables más importantes\n",
    "nombres_imp_15 = importancia.sort_values(by=[0], ascending = False)[:15].index\n",
    "X2 = data.loc[:, nombres_imp_15]\n",
    "resumen_imp15 = resumen_table(X2, y)\n",
    "resumen_imp15"
   ]
  },
  {
   "cell_type": "code",
   "execution_count": 32,
   "metadata": {},
   "outputs": [
    {
     "data": {
      "text/html": [
       "<div>\n",
       "<style scoped>\n",
       "    .dataframe tbody tr th:only-of-type {\n",
       "        vertical-align: middle;\n",
       "    }\n",
       "\n",
       "    .dataframe tbody tr th {\n",
       "        vertical-align: top;\n",
       "    }\n",
       "\n",
       "    .dataframe thead th {\n",
       "        text-align: right;\n",
       "    }\n",
       "</style>\n",
       "<table border=\"1\" class=\"dataframe\">\n",
       "  <thead>\n",
       "    <tr style=\"text-align: right;\">\n",
       "      <th></th>\n",
       "      <th>logit</th>\n",
       "      <th>naive_bayes</th>\n",
       "      <th>svr</th>\n",
       "      <th>svc</th>\n",
       "      <th>tree_cl</th>\n",
       "      <th>tree_reg</th>\n",
       "      <th>rf_cl</th>\n",
       "      <th>rf_reg</th>\n",
       "      <th>xgb_cl</th>\n",
       "      <th>xgb_reg</th>\n",
       "    </tr>\n",
       "  </thead>\n",
       "  <tbody>\n",
       "    <tr>\n",
       "      <th>train_aciertos</th>\n",
       "      <td>0.712209</td>\n",
       "      <td>0.59593</td>\n",
       "      <td>0.896972</td>\n",
       "      <td>0.94186</td>\n",
       "      <td>0.938953</td>\n",
       "      <td>0.853497</td>\n",
       "      <td>0.956395</td>\n",
       "      <td>0.774259</td>\n",
       "      <td>0.90407</td>\n",
       "      <td>0.452482</td>\n",
       "    </tr>\n",
       "    <tr>\n",
       "      <th>train_gini</th>\n",
       "      <td>0.556818</td>\n",
       "      <td>0.302692</td>\n",
       "      <td>0.996956</td>\n",
       "      <td>0.884199</td>\n",
       "      <td>0.981264</td>\n",
       "      <td>0.98265</td>\n",
       "      <td>0.911255</td>\n",
       "      <td>0.994183</td>\n",
       "      <td>0.807089</td>\n",
       "      <td>0.936316</td>\n",
       "    </tr>\n",
       "    <tr>\n",
       "      <th>test_aciertos</th>\n",
       "      <td>0.662791</td>\n",
       "      <td>0.616279</td>\n",
       "      <td>-0.17722</td>\n",
       "      <td>0.488372</td>\n",
       "      <td>0.604651</td>\n",
       "      <td>-0.537703</td>\n",
       "      <td>0.674419</td>\n",
       "      <td>0.087302</td>\n",
       "      <td>0.662791</td>\n",
       "      <td>0.123727</td>\n",
       "    </tr>\n",
       "    <tr>\n",
       "      <th>test_gini</th>\n",
       "      <td>0.371711</td>\n",
       "      <td>0.262061</td>\n",
       "      <td>0.00877193</td>\n",
       "      <td>-0.0263158</td>\n",
       "      <td>0.235746</td>\n",
       "      <td>0.125548</td>\n",
       "      <td>0.339912</td>\n",
       "      <td>0.398575</td>\n",
       "      <td>0.313596</td>\n",
       "      <td>0.419956</td>\n",
       "    </tr>\n",
       "  </tbody>\n",
       "</table>\n",
       "</div>"
      ],
      "text/plain": [
       "                   logit naive_bayes         svr        svc   tree_cl  \\\n",
       "train_aciertos  0.712209     0.59593    0.896972    0.94186  0.938953   \n",
       "train_gini      0.556818    0.302692    0.996956   0.884199  0.981264   \n",
       "test_aciertos   0.662791    0.616279    -0.17722   0.488372  0.604651   \n",
       "test_gini       0.371711    0.262061  0.00877193 -0.0263158  0.235746   \n",
       "\n",
       "                tree_reg     rf_cl    rf_reg    xgb_cl   xgb_reg  \n",
       "train_aciertos  0.853497  0.956395  0.774259   0.90407  0.452482  \n",
       "train_gini       0.98265  0.911255  0.994183  0.807089  0.936316  \n",
       "test_aciertos  -0.537703  0.674419  0.087302  0.662791  0.123727  \n",
       "test_gini       0.125548  0.339912  0.398575  0.313596  0.419956  "
      ]
     },
     "execution_count": 32,
     "metadata": {},
     "output_type": "execute_result"
    }
   ],
   "source": [
    "# Entrenamiento con las principales 10 variables más importantes\n",
    "nombres_imp_10 = importancia.sort_values(by=[0], ascending = False)[:10].index\n",
    "X3 = data.loc[:, nombres_imp_10]\n",
    "resumen_impo10 = resumen_table(X3, y)\n",
    "resumen_impo10"
   ]
  },
  {
   "cell_type": "markdown",
   "metadata": {},
   "source": [
    "**Conclusión:** Se observa que con el XGBoost Classifier y 15 variables se obtiene mejores resultados"
   ]
  },
  {
   "cell_type": "code",
   "execution_count": 33,
   "metadata": {},
   "outputs": [
    {
     "name": "stdout",
     "output_type": "stream",
     "text": [
      "Index(['Jalo', 'Semestres', 'TiempoLlegada', 'NumEquipos', 'Edad',\n",
      "       'NumServicios', 'SatisProm', 'CruceHorarios', 'IndiceEstres',\n",
      "       'Postulaciones', 'IndiceApoyoFam', 'IndiceDocentes', 'Privada',\n",
      "       'NumActividades', 'ConsumoAlcohol'],\n",
      "      dtype='object')\n"
     ]
    }
   ],
   "source": [
    "# Las variables del modelo con mejores indicadores son:\n",
    "print(nombres_imp_15)"
   ]
  },
  {
   "cell_type": "markdown",
   "metadata": {},
   "source": [
    "### Calcular las variables más importantes con el XGBoost Classifier"
   ]
  },
  {
   "cell_type": "code",
   "execution_count": 34,
   "metadata": {},
   "outputs": [],
   "source": [
    "# Tomamos como base las 30 variables más importantes del Random Forest Classifier\n",
    "from sklearn.model_selection import train_test_split\n",
    "X1train, X1test, y1train, y1test = train_test_split(X1, y, test_size = 0.2, random_state = 0)\n",
    "# XGBoost Clasificacion\n",
    "import xgboost as xgb\n",
    "xgb_cl = xgb.XGBClassifier(objective = 'binary:logistic', max_depth = 10,\n",
    "                           n_estimators = 10, seed = 4) # Objeto\n",
    "xgb_cl.fit(X1train, y1train) # Entrenamiento\n",
    "# Importancia de las variables\n",
    "importancia_xgb = pd.DataFrame(xgb_cl.feature_importances_)\n",
    "importancia_xgb.index = X1train.columns"
   ]
  },
  {
   "cell_type": "code",
   "execution_count": 35,
   "metadata": {},
   "outputs": [
    {
     "data": {
      "text/html": [
       "<div>\n",
       "<style scoped>\n",
       "    .dataframe tbody tr th:only-of-type {\n",
       "        vertical-align: middle;\n",
       "    }\n",
       "\n",
       "    .dataframe tbody tr th {\n",
       "        vertical-align: top;\n",
       "    }\n",
       "\n",
       "    .dataframe thead th {\n",
       "        text-align: right;\n",
       "    }\n",
       "</style>\n",
       "<table border=\"1\" class=\"dataframe\">\n",
       "  <thead>\n",
       "    <tr style=\"text-align: right;\">\n",
       "      <th></th>\n",
       "      <th>logit</th>\n",
       "      <th>naive_bayes</th>\n",
       "      <th>svr</th>\n",
       "      <th>svc</th>\n",
       "      <th>tree_cl</th>\n",
       "      <th>tree_reg</th>\n",
       "      <th>rf_cl</th>\n",
       "      <th>rf_reg</th>\n",
       "      <th>xgb_cl</th>\n",
       "      <th>xgb_reg</th>\n",
       "    </tr>\n",
       "  </thead>\n",
       "  <tbody>\n",
       "    <tr>\n",
       "      <th>train_aciertos</th>\n",
       "      <td>0.723837</td>\n",
       "      <td>0.668605</td>\n",
       "      <td>0.598526</td>\n",
       "      <td>0.781977</td>\n",
       "      <td>0.962209</td>\n",
       "      <td>0.897189</td>\n",
       "      <td>0.962209</td>\n",
       "      <td>0.788411</td>\n",
       "      <td>0.901163</td>\n",
       "      <td>0.473751</td>\n",
       "    </tr>\n",
       "    <tr>\n",
       "      <th>train_gini</th>\n",
       "      <td>0.608157</td>\n",
       "      <td>0.515354</td>\n",
       "      <td>0.889137</td>\n",
       "      <td>0.560606</td>\n",
       "      <td>0.991038</td>\n",
       "      <td>0.989786</td>\n",
       "      <td>0.92289</td>\n",
       "      <td>0.993574</td>\n",
       "      <td>0.801407</td>\n",
       "      <td>0.943588</td>\n",
       "    </tr>\n",
       "    <tr>\n",
       "      <th>test_aciertos</th>\n",
       "      <td>0.616279</td>\n",
       "      <td>0.546512</td>\n",
       "      <td>-0.163757</td>\n",
       "      <td>0.55814</td>\n",
       "      <td>0.604651</td>\n",
       "      <td>-0.474245</td>\n",
       "      <td>0.686047</td>\n",
       "      <td>0.0795522</td>\n",
       "      <td>0.627907</td>\n",
       "      <td>0.109037</td>\n",
       "    </tr>\n",
       "    <tr>\n",
       "      <th>test_gini</th>\n",
       "      <td>0.317982</td>\n",
       "      <td>0.0997807</td>\n",
       "      <td>0.222588</td>\n",
       "      <td>0.0986842</td>\n",
       "      <td>0.173794</td>\n",
       "      <td>0.225877</td>\n",
       "      <td>0.371711</td>\n",
       "      <td>0.4375</td>\n",
       "      <td>0.245614</td>\n",
       "      <td>0.402412</td>\n",
       "    </tr>\n",
       "  </tbody>\n",
       "</table>\n",
       "</div>"
      ],
      "text/plain": [
       "                   logit naive_bayes       svr        svc   tree_cl  tree_reg  \\\n",
       "train_aciertos  0.723837    0.668605  0.598526   0.781977  0.962209  0.897189   \n",
       "train_gini      0.608157    0.515354  0.889137   0.560606  0.991038  0.989786   \n",
       "test_aciertos   0.616279    0.546512 -0.163757    0.55814  0.604651 -0.474245   \n",
       "test_gini       0.317982   0.0997807  0.222588  0.0986842  0.173794  0.225877   \n",
       "\n",
       "                   rf_cl     rf_reg    xgb_cl   xgb_reg  \n",
       "train_aciertos  0.962209   0.788411  0.901163  0.473751  \n",
       "train_gini       0.92289   0.993574  0.801407  0.943588  \n",
       "test_aciertos   0.686047  0.0795522  0.627907  0.109037  \n",
       "test_gini       0.371711     0.4375  0.245614  0.402412  "
      ]
     },
     "execution_count": 35,
     "metadata": {},
     "output_type": "execute_result"
    }
   ],
   "source": [
    "# Entrenamiento con las 15 variables XGBoost más importantes\n",
    "nombresxgb_imp_15 = importancia_xgb.sort_values(by=[0], ascending = False)[:15].index\n",
    "X4 = data.loc[:, nombresxgb_imp_15]\n",
    "resumen_imp15xgb = resumen_table(X4, y)\n",
    "resumen_imp15xgb"
   ]
  },
  {
   "cell_type": "code",
   "execution_count": 36,
   "metadata": {},
   "outputs": [
    {
     "data": {
      "text/html": [
       "<div>\n",
       "<style scoped>\n",
       "    .dataframe tbody tr th:only-of-type {\n",
       "        vertical-align: middle;\n",
       "    }\n",
       "\n",
       "    .dataframe tbody tr th {\n",
       "        vertical-align: top;\n",
       "    }\n",
       "\n",
       "    .dataframe thead th {\n",
       "        text-align: right;\n",
       "    }\n",
       "</style>\n",
       "<table border=\"1\" class=\"dataframe\">\n",
       "  <thead>\n",
       "    <tr style=\"text-align: right;\">\n",
       "      <th></th>\n",
       "      <th>logit</th>\n",
       "      <th>naive_bayes</th>\n",
       "      <th>svr</th>\n",
       "      <th>svc</th>\n",
       "      <th>tree_cl</th>\n",
       "      <th>tree_reg</th>\n",
       "      <th>rf_cl</th>\n",
       "      <th>rf_reg</th>\n",
       "      <th>xgb_cl</th>\n",
       "      <th>xgb_reg</th>\n",
       "    </tr>\n",
       "  </thead>\n",
       "  <tbody>\n",
       "    <tr>\n",
       "      <th>train_aciertos</th>\n",
       "      <td>0.72093</td>\n",
       "      <td>0.674419</td>\n",
       "      <td>0.416397</td>\n",
       "      <td>0.761628</td>\n",
       "      <td>0.950581</td>\n",
       "      <td>0.876484</td>\n",
       "      <td>0.94186</td>\n",
       "      <td>0.768785</td>\n",
       "      <td>0.863372</td>\n",
       "      <td>0.428594</td>\n",
       "    </tr>\n",
       "    <tr>\n",
       "      <th>train_gini</th>\n",
       "      <td>0.594629</td>\n",
       "      <td>0.4977</td>\n",
       "      <td>0.745806</td>\n",
       "      <td>0.518669</td>\n",
       "      <td>0.986472</td>\n",
       "      <td>0.986573</td>\n",
       "      <td>0.883117</td>\n",
       "      <td>0.985423</td>\n",
       "      <td>0.725108</td>\n",
       "      <td>0.888224</td>\n",
       "    </tr>\n",
       "    <tr>\n",
       "      <th>test_aciertos</th>\n",
       "      <td>0.639535</td>\n",
       "      <td>0.55814</td>\n",
       "      <td>-0.0295586</td>\n",
       "      <td>0.639535</td>\n",
       "      <td>0.581395</td>\n",
       "      <td>-0.737563</td>\n",
       "      <td>0.616279</td>\n",
       "      <td>0.0162325</td>\n",
       "      <td>0.627907</td>\n",
       "      <td>0.117279</td>\n",
       "    </tr>\n",
       "    <tr>\n",
       "      <th>test_gini</th>\n",
       "      <td>0.287281</td>\n",
       "      <td>0.0899123</td>\n",
       "      <td>0.324561</td>\n",
       "      <td>0.255482</td>\n",
       "      <td>0.132127</td>\n",
       "      <td>0.0948465</td>\n",
       "      <td>0.230263</td>\n",
       "      <td>0.380482</td>\n",
       "      <td>0.240132</td>\n",
       "      <td>0.413925</td>\n",
       "    </tr>\n",
       "  </tbody>\n",
       "</table>\n",
       "</div>"
      ],
      "text/plain": [
       "                   logit naive_bayes        svr       svc   tree_cl  \\\n",
       "train_aciertos   0.72093    0.674419   0.416397  0.761628  0.950581   \n",
       "train_gini      0.594629      0.4977   0.745806  0.518669  0.986472   \n",
       "test_aciertos   0.639535     0.55814 -0.0295586  0.639535  0.581395   \n",
       "test_gini       0.287281   0.0899123   0.324561  0.255482  0.132127   \n",
       "\n",
       "                 tree_reg     rf_cl     rf_reg    xgb_cl   xgb_reg  \n",
       "train_aciertos   0.876484   0.94186   0.768785  0.863372  0.428594  \n",
       "train_gini       0.986573  0.883117   0.985423  0.725108  0.888224  \n",
       "test_aciertos   -0.737563  0.616279  0.0162325  0.627907  0.117279  \n",
       "test_gini       0.0948465  0.230263   0.380482  0.240132  0.413925  "
      ]
     },
     "execution_count": 36,
     "metadata": {},
     "output_type": "execute_result"
    }
   ],
   "source": [
    "# Entrenamiento con las 10 variables XGBoost más importantes\n",
    "nombresxgb_imp_10 = importancia_xgb.sort_values(by=[0], ascending = False)[:10].index\n",
    "X5 = data.loc[:, nombresxgb_imp_10]\n",
    "resumen_impo10xgb = resumen_table(X5, y)\n",
    "resumen_impo10xgb"
   ]
  },
  {
   "cell_type": "markdown",
   "metadata": {},
   "source": [
    "## 6 - Conclusiones"
   ]
  },
  {
   "cell_type": "markdown",
   "metadata": {},
   "source": [
    "Tomando 15 y 10 variables más importantes de XGBoost Clasiffier no logramos mejorar nuestro modelo. La mejor performance la tenemos con XGBoost Classifier, utilizando las 15 mejores variables obtenidas del Random Forest Classifier:"
   ]
  },
  {
   "cell_type": "code",
   "execution_count": 37,
   "metadata": {},
   "outputs": [
    {
     "name": "stdout",
     "output_type": "stream",
     "text": [
      "['Jalo' 'Semestres' 'TiempoLlegada' 'NumEquipos' 'Edad' 'NumServicios'\n",
      " 'SatisProm' 'CruceHorarios' 'IndiceEstres' 'Postulaciones'\n",
      " 'IndiceApoyoFam' 'IndiceDocentes' 'Privada' 'NumActividades'\n",
      " 'ConsumoAlcohol']\n"
     ]
    }
   ],
   "source": [
    "print(nombres_imp_15.values)"
   ]
  },
  {
   "cell_type": "code",
   "execution_count": 40,
   "metadata": {},
   "outputs": [
    {
     "data": {
      "text/plain": [
       "train_aciertos    0.901163\n",
       "train_gini        0.801677\n",
       "test_aciertos      0.72093\n",
       "test_gini         0.445175\n",
       "Name: xgb_cl, dtype: object"
      ]
     },
     "execution_count": 40,
     "metadata": {},
     "output_type": "execute_result"
    }
   ],
   "source": [
    "resumen_imp15['xgb_cl']"
   ]
  },
  {
   "cell_type": "code",
   "execution_count": null,
   "metadata": {},
   "outputs": [],
   "source": []
  }
 ],
 "metadata": {
  "kernelspec": {
   "display_name": "Python 3",
   "language": "python",
   "name": "python3"
  },
  "language_info": {
   "codemirror_mode": {
    "name": "ipython",
    "version": 3
   },
   "file_extension": ".py",
   "mimetype": "text/x-python",
   "name": "python",
   "nbconvert_exporter": "python",
   "pygments_lexer": "ipython3",
   "version": "3.7.1"
  }
 },
 "nbformat": 4,
 "nbformat_minor": 2
}
